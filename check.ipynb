{
  "nbformat": 4,
  "nbformat_minor": 0,
  "metadata": {
    "colab": {
      "provenance": [],
      "authorship_tag": "ABX9TyNGp02+6iDxnhLaqtzv6zny",
      "include_colab_link": true
    },
    "kernelspec": {
      "name": "python3",
      "display_name": "Python 3"
    },
    "language_info": {
      "name": "python"
    }
  },
  "cells": [
    {
      "cell_type": "markdown",
      "metadata": {
        "id": "view-in-github",
        "colab_type": "text"
      },
      "source": [
        "<a href=\"https://colab.research.google.com/github/AitMahfoud-Rahma/IGDR_Internship/blob/main/check.ipynb\" target=\"_parent\"><img src=\"https://colab.research.google.com/assets/colab-badge.svg\" alt=\"Open In Colab\"/></a>"
      ]
    },
    {
      "cell_type": "code",
      "source": [
        "def install_packages():\n",
        "    try:\n",
        "        import subprocess\n",
        "        subprocess.run([\"pip\", \"install\", \"fuzzywuzzy\", \"unidecode\", \"pandas\", \"Levenshtein\"], check=True)\n",
        "        print(\"Les packages ont été installés avec succès.\")\n",
        "    except Exception as e:\n",
        "        print(f\"Une erreur s'est produite lors de l'installation des packages : {str(e)}\")\n",
        "\n",
        "install_packages()"
      ],
      "metadata": {
        "colab": {
          "base_uri": "https://localhost:8080/"
        },
        "id": "jMs4xQqufhpX",
        "outputId": "c7428db0-e48d-4532-82b1-bfe80ffabee2"
      },
      "execution_count": 9,
      "outputs": [
        {
          "output_type": "stream",
          "name": "stdout",
          "text": [
            "Les packages ont été installés avec succès.\n"
          ]
        }
      ]
    },
    {
      "cell_type": "code",
      "source": [
        "# This function doesnt work correctly !!!!\n",
        "import pandas as pd\n",
        "\n",
        "def read_excel_file(path_db, path_jotform, sheet_name=\"Form Responses\"):\n",
        "    # Read the database file\n",
        "    file_db = pd.read_excel(path_db, header=0)\n",
        "\n",
        "    # Read the jotform file\n",
        "    file_jotform = pd.read_excel(path_jotform, sheet_name=sheet_name, header=0)\n",
        "\n",
        "    return file_db, file_jotform\n",
        "\n",
        "path_db = \"/content/table-data-5.xls\"\n",
        "path_jotform = \"/content/FICHE_DE_RENSEIGNEMENTS-4.xlsx\"\n",
        "data_db, data_jotform = read_excel_file(path_db, path_jotform)\n",
        "################## Unused chunk ##################"
      ],
      "metadata": {
        "id": "fTibaUqfgwW7"
      },
      "execution_count": 18,
      "outputs": []
    },
    {
      "cell_type": "code",
      "source": [
        "import pandas as pd\n",
        "\n",
        "# Read the database file\n",
        "path_db = \"/content/table-data-5.xls\"\n",
        "file_db = pd.read_excel(path_db, header=0)\n",
        "sheet_name = \"Form Responses\"\n",
        "\n",
        "# Read the jotform file\n",
        "path_jotform = \"/content/FICHE_DE_RENSEIGNEMENTS-4.xlsx\"\n",
        "file_jotform = pd.read_excel(path_jotform, sheet_name=sheet_name, header=0)"
      ],
      "metadata": {
        "id": "ch0RLSnsr95m"
      },
      "execution_count": 23,
      "outputs": []
    },
    {
      "cell_type": "code",
      "source": [
        "from unidecode import unidecode\n",
        "from fuzzywuzzy import fuzz\n",
        "import pandas as pd\n",
        "\n",
        "def check_existence_and_similarity(field_name, jotform_value, db_column, log_messages):\n",
        "    jotform_value_mod = unidecode(str(jotform_value)).lower()\n",
        "    db_values_lower = db_column.apply(lambda x: unidecode(str(x)) if pd.notna(x) else x).str.lower()\n",
        "\n",
        "    # Vérifier si la valeur existe dans la base de données\n",
        "    exists = jotform_value_mod in db_values_lower.values\n",
        "\n",
        "    if exists:\n",
        "        message = f\"{field_name} ({jotform_value}) existe déjà dans la base de données.\"\n",
        "        log_messages.append(message)\n",
        "        print(message)\n",
        "    else:\n",
        "        # Vérifier la similarité entre les valeurs\n",
        "        similarity_scores = db_values_lower.apply(lambda x: fuzz.ratio(x, jotform_value_mod) if isinstance(x, str) else 0)\n",
        "        max_similarity_score = similarity_scores.max()\n",
        "\n",
        "        if max_similarity_score >= 65:  # Threshold similarity\n",
        "            # Récupérer la valeur exacte dans la base de données\n",
        "            value_exact_in_database = db_column.loc[similarity_scores.idxmax()]\n",
        "            message = f\"{field_name} ({jotform_value}) existe déjà dans la base de données avec une légère différence dans l'orthographe. Valeur exacte dans la base de données : {value_exact_in_database}.\"\n",
        "            log_messages.append(message)\n",
        "            print(message)\n",
        "        else:\n",
        "            message = f\"{field_name} ({jotform_value}) n'existe pas dans la base de données.\"\n",
        "            log_messages.append(message)\n",
        "            print(message)\n",
        "\n",
        "def main_verification(file_jotform, file_db):\n",
        "    log_messages = []\n",
        "\n",
        "    if 'Affixe_Original' not in file_jotform.columns:\n",
        "        # Store original affix in a new temporary column\n",
        "        file_jotform['Affixe_Original'] = file_jotform['Affixe']\n",
        "\n",
        "    affixe_without_nan = file_db['Affixe'].dropna()\n",
        "    unique_values = affixe_without_nan.unique()\n",
        "    unique_values_mod = affixe_without_nan.apply(lambda x: unidecode(x).replace(' ', '').lower()).unique()\n",
        "    file_jotform['Affixe'] = file_jotform['Affixe'].dropna().apply(lambda x: unidecode(x).replace(' ', '').lower())\n",
        "\n",
        "    result = file_jotform['Affixe'].isin(unique_values_mod)\n",
        "\n",
        "    for i, affixe_jotform in enumerate(file_jotform['Affixe']):\n",
        "        affixe_jotform_mod = unidecode(affixe_jotform).lower().strip()\n",
        "        affixe_original = file_jotform['Affixe_Original'][i]\n",
        "\n",
        "        if affixe_jotform_mod in unique_values_mod:\n",
        "            index_base_de_donnees = unique_values_mod.tolist().index(affixe_jotform_mod)\n",
        "            affixe_base_de_donnees = unique_values[index_base_de_donnees]\n",
        "\n",
        "            message = f\"L'affixe : ({affixe_original}) existe déjà dans la base de données sous le nom : ({affixe_base_de_donnees})\"\n",
        "            log_messages.append(message)\n",
        "            print(message)\n",
        "        else:\n",
        "            message = f\"L'affixe : ({affixe_original}) n'existe pas dans la base de données.\"\n",
        "            log_messages.append(message)\n",
        "            print(message)\n",
        "\n",
        "        puce_jotform = file_jotform['Puce'][i]\n",
        "        if pd.notna(puce_jotform):\n",
        "            nombre_chiffres_puce = sum(c.isdigit() for c in str(puce_jotform))\n",
        "\n",
        "            if nombre_chiffres_puce < 15:\n",
        "                nom_usuel_correspondant = file_jotform['Nom Usuel (animal)'][i]\n",
        "                message_puce = f\"Une puce avec un nombre de chiffres de : {nombre_chiffres_puce} a été détectée.\\n Veuillez vérifier le pays d'origine de l'animal avec la Puce : {puce_jotform}. Nom Usuel correspondant : {nom_usuel_correspondant}. Numéro de ligne dans file_jotform : {i + 1}\"\n",
        "                log_messages.append(message_puce)\n",
        "                print(message_puce)\n",
        "\n",
        "          # Vet check\n",
        "        check_existence_and_similarity(\n",
        "            \"Le vétérinaire\",\n",
        "            file_jotform['Nom (vétérinaire)'][i] + ' ' + file_jotform['Prénom (vétérinaire)'][i],\n",
        "            file_db[['Vétérinaire - Nom', 'Vétérinaire - Prénom']].stack(),\n",
        "            log_messages\n",
        "        )\n",
        "\n",
        "        # Proprio check\n",
        "        check_existence_and_similarity(\n",
        "            \"Le propriétaire\",\n",
        "            file_jotform['Nom (propriétaire)'][i] + ' ' + file_jotform['Prénom (propriétaire)'][i],\n",
        "            file_db[['Propriétaire - Nom', 'Propriétaire - Prénom']].stack(),\n",
        "            log_messages\n",
        "        )\n",
        "\n",
        "        # Chien check\n",
        "        check_existence_and_similarity(\n",
        "            \"Le chien\",\n",
        "            file_jotform['Nom Usuel (animal)'][i] ,\n",
        "            file_db['Nom usuel'],\n",
        "            log_messages\n",
        "        )\n",
        "\n",
        "\n",
        "\n",
        "        with open('output_file.log', 'w') as log_file:\n",
        "            for message in log_messages:\n",
        "                log_file.write(message + '\\n')\n",
        "\n",
        "\n",
        "\n",
        "if __name__ == \"__main__\":\n",
        "    main_verification(file_jotform, file_db)\n",
        "\n"
      ],
      "metadata": {
        "colab": {
          "base_uri": "https://localhost:8080/"
        },
        "id": "lZ3yyP5Drhli",
        "outputId": "22e55499-346d-48b7-c100-4a242e81039a"
      },
      "execution_count": 31,
      "outputs": [
        {
          "output_type": "stream",
          "name": "stdout",
          "text": [
            "L'affixe : (Ferme d'or) n'existe pas dans la base de données.\n",
            "Le vétérinaire (Labdi Aylene) n'existe pas dans la base de données.\n",
            "Le propriétaire (Keev Adams) n'existe pas dans la base de données.\n",
            "Le chien (Zira) existe déjà dans la base de données avec une légère différence dans l'orthographe. Valeur exacte dans la base de données : Ira.\n",
            "L'affixe : (Du Pic D'Espade) existe déjà dans la base de données sous le nom : (Du Pic D'Espade)\n",
            "Le vétérinaire (Moner jean) existe déjà dans la base de données avec une légère différence dans l'orthographe. Valeur exacte dans la base de données : Monjean.\n",
            "Le propriétaire (Gainche Norbert) existe déjà dans la base de données.\n",
            "Le chien (Nouchka) existe déjà dans la base de données.\n",
            "L'affixe : (Nouveau afFixe) n'existe pas dans la base de données.\n",
            "Le vétérinaire (new veterinaire) existe déjà dans la base de données avec une légère différence dans l'orthographe. Valeur exacte dans la base de données : Veterinaire.\n",
            "Le propriétaire (nouveau proprio) n'existe pas dans la base de données.\n",
            "Le chien (pitchou) existe déjà dans la base de données.\n",
            "L'affixe : (De La Vallée de l'hyröme) existe déjà dans la base de données sous le nom : (De La Vallee De L'Hyrome)\n",
            "Le vétérinaire (Debillot Jerome) existe déjà dans la base de données avec une légère différence dans l'orthographe. Valeur exacte dans la base de données : Debillot.\n",
            "Le propriétaire (Bodelet Valentin) existe déjà dans la base de données avec une légère différence dans l'orthographe. Valeur exacte dans la base de données : Valentin.\n",
            "Le chien (Emeraude) existe déjà dans la base de données.\n",
            "L'affixe : (Des Bouleaux Rouges) existe déjà dans la base de données sous le nom : (Des Bouleaux Rouges)\n",
            "Une puce avec un nombre de chiffres de : 14 a été détectée.\n",
            " Veuillez vérifier le pays d'origine de l'animal avec la Puce : 2502687111330.0. Nom Usuel correspondant : textbox_sample18. Numéro de ligne dans file_jotform : 5\n",
            "Le vétérinaire (Oulach Alexandre) existe déjà dans la base de données avec une légère différence dans l'orthographe. Valeur exacte dans la base de données : Paul Alexandre.\n",
            "Le propriétaire (Sylviane Tompousky) existe déjà dans la base de données avec une légère différence dans l'orthographe. Valeur exacte dans la base de données : Tompousky.\n",
            "Le chien (textbox_sample18) n'existe pas dans la base de données.\n",
            "L'affixe : (De la petite saunerie) existe déjà dans la base de données sous le nom : (De La Petite Saunerie)\n",
            "Le vétérinaire (Matthieu Melin) existe déjà dans la base de données avec une légère différence dans l'orthographe. Valeur exacte dans la base de données : Matthieu.\n",
            "Le propriétaire (Eéva Audigâne) existe déjà dans la base de données avec une légère différence dans l'orthographe. Valeur exacte dans la base de données : Audigane.\n",
            "Le chien (Valyana) existe déjà dans la base de données avec une légère différence dans l'orthographe. Valeur exacte dans la base de données : Valyanna.\n"
          ]
        }
      ]
    }
  ]
}